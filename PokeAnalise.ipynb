{
 "cells": [
  {
   "cell_type": "code",
   "id": "initial_id",
   "metadata": {
    "collapsed": true,
    "ExecuteTime": {
     "end_time": "2024-11-21T19:23:17.335387Z",
     "start_time": "2024-11-21T19:23:17.330760Z"
    }
   },
   "source": [
    "import pandas as pd\n",
    "import matplotlib.pyplot as plt\n",
    "import seaborn as sbs\n",
    "import numpy as np\n",
    "import statistics\n",
    "\n",
    "from PyQt5.QtWidgets.QWidget import width\n",
    "from matplotlib.pyplot import figure"
   ],
   "outputs": [],
   "execution_count": 3
  },
  {
   "metadata": {},
   "cell_type": "markdown",
   "source": [
    "## Objetivo da PokéAnálise\n",
    "- Explorar os poké-elementos do PokéBanco de Dados;\n",
    "- Determinar possíveis padrões entre os pokédados, de forma a otimizar combos e speedruns <br>\n",
    "de jogos de Pokémon que contemplem os pokémon presentes no Banco (até a sétima geração);\n",
    "- Ilustrar tudo isso com pokétabelas e pokégráficos lindes e perfeites;"
   ],
   "id": "2a444718ac65de9"
  },
  {
   "metadata": {
    "ExecuteTime": {
     "end_time": "2024-11-21T19:23:17.371753Z",
     "start_time": "2024-11-21T19:23:17.355400Z"
    }
   },
   "cell_type": "code",
   "source": "pokemon_db = pd.read_csv('pokemon.csv')",
   "id": "74e6f509041fc7",
   "outputs": [],
   "execution_count": 4
  },
  {
   "metadata": {
    "ExecuteTime": {
     "end_time": "2024-11-21T19:23:17.421640Z",
     "start_time": "2024-11-21T19:23:17.396805Z"
    }
   },
   "cell_type": "code",
   "source": "pokemon_db.head()",
   "id": "11edb4ad6dced234",
   "outputs": [
    {
     "data": {
      "text/plain": [
       "                     abilities  against_bug  against_dark  against_dragon  \\\n",
       "0  ['Overgrow', 'Chlorophyll']          1.0           1.0             1.0   \n",
       "1  ['Overgrow', 'Chlorophyll']          1.0           1.0             1.0   \n",
       "2  ['Overgrow', 'Chlorophyll']          1.0           1.0             1.0   \n",
       "3     ['Blaze', 'Solar Power']          0.5           1.0             1.0   \n",
       "4     ['Blaze', 'Solar Power']          0.5           1.0             1.0   \n",
       "\n",
       "   against_electric  against_fairy  against_fight  against_fire  \\\n",
       "0               0.5            0.5            0.5           2.0   \n",
       "1               0.5            0.5            0.5           2.0   \n",
       "2               0.5            0.5            0.5           2.0   \n",
       "3               1.0            0.5            1.0           0.5   \n",
       "4               1.0            0.5            1.0           0.5   \n",
       "\n",
       "   against_flying  against_ghost  ...  percentage_male  pokedex_number  \\\n",
       "0             2.0            1.0  ...             88.1               1   \n",
       "1             2.0            1.0  ...             88.1               2   \n",
       "2             2.0            1.0  ...             88.1               3   \n",
       "3             1.0            1.0  ...             88.1               4   \n",
       "4             1.0            1.0  ...             88.1               5   \n",
       "\n",
       "   sp_attack  sp_defense  speed  type1   type2  weight_kg  generation  \\\n",
       "0         65          65     45  grass  poison        6.9           1   \n",
       "1         80          80     60  grass  poison       13.0           1   \n",
       "2        122         120     80  grass  poison      100.0           1   \n",
       "3         60          50     65   fire     NaN        8.5           1   \n",
       "4         80          65     80   fire     NaN       19.0           1   \n",
       "\n",
       "   is_legendary  \n",
       "0             0  \n",
       "1             0  \n",
       "2             0  \n",
       "3             0  \n",
       "4             0  \n",
       "\n",
       "[5 rows x 41 columns]"
      ],
      "text/html": [
       "<div>\n",
       "<style scoped>\n",
       "    .dataframe tbody tr th:only-of-type {\n",
       "        vertical-align: middle;\n",
       "    }\n",
       "\n",
       "    .dataframe tbody tr th {\n",
       "        vertical-align: top;\n",
       "    }\n",
       "\n",
       "    .dataframe thead th {\n",
       "        text-align: right;\n",
       "    }\n",
       "</style>\n",
       "<table border=\"1\" class=\"dataframe\">\n",
       "  <thead>\n",
       "    <tr style=\"text-align: right;\">\n",
       "      <th></th>\n",
       "      <th>abilities</th>\n",
       "      <th>against_bug</th>\n",
       "      <th>against_dark</th>\n",
       "      <th>against_dragon</th>\n",
       "      <th>against_electric</th>\n",
       "      <th>against_fairy</th>\n",
       "      <th>against_fight</th>\n",
       "      <th>against_fire</th>\n",
       "      <th>against_flying</th>\n",
       "      <th>against_ghost</th>\n",
       "      <th>...</th>\n",
       "      <th>percentage_male</th>\n",
       "      <th>pokedex_number</th>\n",
       "      <th>sp_attack</th>\n",
       "      <th>sp_defense</th>\n",
       "      <th>speed</th>\n",
       "      <th>type1</th>\n",
       "      <th>type2</th>\n",
       "      <th>weight_kg</th>\n",
       "      <th>generation</th>\n",
       "      <th>is_legendary</th>\n",
       "    </tr>\n",
       "  </thead>\n",
       "  <tbody>\n",
       "    <tr>\n",
       "      <th>0</th>\n",
       "      <td>['Overgrow', 'Chlorophyll']</td>\n",
       "      <td>1.0</td>\n",
       "      <td>1.0</td>\n",
       "      <td>1.0</td>\n",
       "      <td>0.5</td>\n",
       "      <td>0.5</td>\n",
       "      <td>0.5</td>\n",
       "      <td>2.0</td>\n",
       "      <td>2.0</td>\n",
       "      <td>1.0</td>\n",
       "      <td>...</td>\n",
       "      <td>88.1</td>\n",
       "      <td>1</td>\n",
       "      <td>65</td>\n",
       "      <td>65</td>\n",
       "      <td>45</td>\n",
       "      <td>grass</td>\n",
       "      <td>poison</td>\n",
       "      <td>6.9</td>\n",
       "      <td>1</td>\n",
       "      <td>0</td>\n",
       "    </tr>\n",
       "    <tr>\n",
       "      <th>1</th>\n",
       "      <td>['Overgrow', 'Chlorophyll']</td>\n",
       "      <td>1.0</td>\n",
       "      <td>1.0</td>\n",
       "      <td>1.0</td>\n",
       "      <td>0.5</td>\n",
       "      <td>0.5</td>\n",
       "      <td>0.5</td>\n",
       "      <td>2.0</td>\n",
       "      <td>2.0</td>\n",
       "      <td>1.0</td>\n",
       "      <td>...</td>\n",
       "      <td>88.1</td>\n",
       "      <td>2</td>\n",
       "      <td>80</td>\n",
       "      <td>80</td>\n",
       "      <td>60</td>\n",
       "      <td>grass</td>\n",
       "      <td>poison</td>\n",
       "      <td>13.0</td>\n",
       "      <td>1</td>\n",
       "      <td>0</td>\n",
       "    </tr>\n",
       "    <tr>\n",
       "      <th>2</th>\n",
       "      <td>['Overgrow', 'Chlorophyll']</td>\n",
       "      <td>1.0</td>\n",
       "      <td>1.0</td>\n",
       "      <td>1.0</td>\n",
       "      <td>0.5</td>\n",
       "      <td>0.5</td>\n",
       "      <td>0.5</td>\n",
       "      <td>2.0</td>\n",
       "      <td>2.0</td>\n",
       "      <td>1.0</td>\n",
       "      <td>...</td>\n",
       "      <td>88.1</td>\n",
       "      <td>3</td>\n",
       "      <td>122</td>\n",
       "      <td>120</td>\n",
       "      <td>80</td>\n",
       "      <td>grass</td>\n",
       "      <td>poison</td>\n",
       "      <td>100.0</td>\n",
       "      <td>1</td>\n",
       "      <td>0</td>\n",
       "    </tr>\n",
       "    <tr>\n",
       "      <th>3</th>\n",
       "      <td>['Blaze', 'Solar Power']</td>\n",
       "      <td>0.5</td>\n",
       "      <td>1.0</td>\n",
       "      <td>1.0</td>\n",
       "      <td>1.0</td>\n",
       "      <td>0.5</td>\n",
       "      <td>1.0</td>\n",
       "      <td>0.5</td>\n",
       "      <td>1.0</td>\n",
       "      <td>1.0</td>\n",
       "      <td>...</td>\n",
       "      <td>88.1</td>\n",
       "      <td>4</td>\n",
       "      <td>60</td>\n",
       "      <td>50</td>\n",
       "      <td>65</td>\n",
       "      <td>fire</td>\n",
       "      <td>NaN</td>\n",
       "      <td>8.5</td>\n",
       "      <td>1</td>\n",
       "      <td>0</td>\n",
       "    </tr>\n",
       "    <tr>\n",
       "      <th>4</th>\n",
       "      <td>['Blaze', 'Solar Power']</td>\n",
       "      <td>0.5</td>\n",
       "      <td>1.0</td>\n",
       "      <td>1.0</td>\n",
       "      <td>1.0</td>\n",
       "      <td>0.5</td>\n",
       "      <td>1.0</td>\n",
       "      <td>0.5</td>\n",
       "      <td>1.0</td>\n",
       "      <td>1.0</td>\n",
       "      <td>...</td>\n",
       "      <td>88.1</td>\n",
       "      <td>5</td>\n",
       "      <td>80</td>\n",
       "      <td>65</td>\n",
       "      <td>80</td>\n",
       "      <td>fire</td>\n",
       "      <td>NaN</td>\n",
       "      <td>19.0</td>\n",
       "      <td>1</td>\n",
       "      <td>0</td>\n",
       "    </tr>\n",
       "  </tbody>\n",
       "</table>\n",
       "<p>5 rows × 41 columns</p>\n",
       "</div>"
      ]
     },
     "execution_count": 5,
     "metadata": {},
     "output_type": "execute_result"
    }
   ],
   "execution_count": 5
  },
  {
   "metadata": {
    "ExecuteTime": {
     "end_time": "2024-11-21T19:23:17.648871Z",
     "start_time": "2024-11-21T19:23:17.626972Z"
    }
   },
   "cell_type": "code",
   "source": "pokemon_db.tail()",
   "id": "9cea7837887a79cc",
   "outputs": [
    {
     "data": {
      "text/plain": [
       "           abilities  against_bug  against_dark  against_dragon  \\\n",
       "796  ['Beast Boost']         0.25           1.0             0.5   \n",
       "797  ['Beast Boost']         1.00           1.0             0.5   \n",
       "798  ['Beast Boost']         2.00           0.5             2.0   \n",
       "799  ['Prism Armor']         2.00           2.0             1.0   \n",
       "800   ['Soul-Heart']         0.25           0.5             0.0   \n",
       "\n",
       "     against_electric  against_fairy  against_fight  against_fire  \\\n",
       "796               2.0            0.5            1.0           2.0   \n",
       "797               0.5            0.5            2.0           4.0   \n",
       "798               0.5            4.0            2.0           0.5   \n",
       "799               1.0            1.0            0.5           1.0   \n",
       "800               1.0            0.5            1.0           2.0   \n",
       "\n",
       "     against_flying  against_ghost  ...  percentage_male  pokedex_number  \\\n",
       "796             0.5            1.0  ...              NaN             797   \n",
       "797             1.0            1.0  ...              NaN             798   \n",
       "798             1.0            0.5  ...              NaN             799   \n",
       "799             1.0            2.0  ...              NaN             800   \n",
       "800             0.5            1.0  ...              NaN             801   \n",
       "\n",
       "     sp_attack  sp_defense  speed    type1   type2  weight_kg  generation  \\\n",
       "796        107         101     61    steel  flying      999.9           7   \n",
       "797         59          31    109    grass   steel        0.1           7   \n",
       "798         97          53     43     dark  dragon      888.0           7   \n",
       "799        127          89     79  psychic     NaN      230.0           7   \n",
       "800        130         115     65    steel   fairy       80.5           7   \n",
       "\n",
       "     is_legendary  \n",
       "796             1  \n",
       "797             1  \n",
       "798             1  \n",
       "799             1  \n",
       "800             1  \n",
       "\n",
       "[5 rows x 41 columns]"
      ],
      "text/html": [
       "<div>\n",
       "<style scoped>\n",
       "    .dataframe tbody tr th:only-of-type {\n",
       "        vertical-align: middle;\n",
       "    }\n",
       "\n",
       "    .dataframe tbody tr th {\n",
       "        vertical-align: top;\n",
       "    }\n",
       "\n",
       "    .dataframe thead th {\n",
       "        text-align: right;\n",
       "    }\n",
       "</style>\n",
       "<table border=\"1\" class=\"dataframe\">\n",
       "  <thead>\n",
       "    <tr style=\"text-align: right;\">\n",
       "      <th></th>\n",
       "      <th>abilities</th>\n",
       "      <th>against_bug</th>\n",
       "      <th>against_dark</th>\n",
       "      <th>against_dragon</th>\n",
       "      <th>against_electric</th>\n",
       "      <th>against_fairy</th>\n",
       "      <th>against_fight</th>\n",
       "      <th>against_fire</th>\n",
       "      <th>against_flying</th>\n",
       "      <th>against_ghost</th>\n",
       "      <th>...</th>\n",
       "      <th>percentage_male</th>\n",
       "      <th>pokedex_number</th>\n",
       "      <th>sp_attack</th>\n",
       "      <th>sp_defense</th>\n",
       "      <th>speed</th>\n",
       "      <th>type1</th>\n",
       "      <th>type2</th>\n",
       "      <th>weight_kg</th>\n",
       "      <th>generation</th>\n",
       "      <th>is_legendary</th>\n",
       "    </tr>\n",
       "  </thead>\n",
       "  <tbody>\n",
       "    <tr>\n",
       "      <th>796</th>\n",
       "      <td>['Beast Boost']</td>\n",
       "      <td>0.25</td>\n",
       "      <td>1.0</td>\n",
       "      <td>0.5</td>\n",
       "      <td>2.0</td>\n",
       "      <td>0.5</td>\n",
       "      <td>1.0</td>\n",
       "      <td>2.0</td>\n",
       "      <td>0.5</td>\n",
       "      <td>1.0</td>\n",
       "      <td>...</td>\n",
       "      <td>NaN</td>\n",
       "      <td>797</td>\n",
       "      <td>107</td>\n",
       "      <td>101</td>\n",
       "      <td>61</td>\n",
       "      <td>steel</td>\n",
       "      <td>flying</td>\n",
       "      <td>999.9</td>\n",
       "      <td>7</td>\n",
       "      <td>1</td>\n",
       "    </tr>\n",
       "    <tr>\n",
       "      <th>797</th>\n",
       "      <td>['Beast Boost']</td>\n",
       "      <td>1.00</td>\n",
       "      <td>1.0</td>\n",
       "      <td>0.5</td>\n",
       "      <td>0.5</td>\n",
       "      <td>0.5</td>\n",
       "      <td>2.0</td>\n",
       "      <td>4.0</td>\n",
       "      <td>1.0</td>\n",
       "      <td>1.0</td>\n",
       "      <td>...</td>\n",
       "      <td>NaN</td>\n",
       "      <td>798</td>\n",
       "      <td>59</td>\n",
       "      <td>31</td>\n",
       "      <td>109</td>\n",
       "      <td>grass</td>\n",
       "      <td>steel</td>\n",
       "      <td>0.1</td>\n",
       "      <td>7</td>\n",
       "      <td>1</td>\n",
       "    </tr>\n",
       "    <tr>\n",
       "      <th>798</th>\n",
       "      <td>['Beast Boost']</td>\n",
       "      <td>2.00</td>\n",
       "      <td>0.5</td>\n",
       "      <td>2.0</td>\n",
       "      <td>0.5</td>\n",
       "      <td>4.0</td>\n",
       "      <td>2.0</td>\n",
       "      <td>0.5</td>\n",
       "      <td>1.0</td>\n",
       "      <td>0.5</td>\n",
       "      <td>...</td>\n",
       "      <td>NaN</td>\n",
       "      <td>799</td>\n",
       "      <td>97</td>\n",
       "      <td>53</td>\n",
       "      <td>43</td>\n",
       "      <td>dark</td>\n",
       "      <td>dragon</td>\n",
       "      <td>888.0</td>\n",
       "      <td>7</td>\n",
       "      <td>1</td>\n",
       "    </tr>\n",
       "    <tr>\n",
       "      <th>799</th>\n",
       "      <td>['Prism Armor']</td>\n",
       "      <td>2.00</td>\n",
       "      <td>2.0</td>\n",
       "      <td>1.0</td>\n",
       "      <td>1.0</td>\n",
       "      <td>1.0</td>\n",
       "      <td>0.5</td>\n",
       "      <td>1.0</td>\n",
       "      <td>1.0</td>\n",
       "      <td>2.0</td>\n",
       "      <td>...</td>\n",
       "      <td>NaN</td>\n",
       "      <td>800</td>\n",
       "      <td>127</td>\n",
       "      <td>89</td>\n",
       "      <td>79</td>\n",
       "      <td>psychic</td>\n",
       "      <td>NaN</td>\n",
       "      <td>230.0</td>\n",
       "      <td>7</td>\n",
       "      <td>1</td>\n",
       "    </tr>\n",
       "    <tr>\n",
       "      <th>800</th>\n",
       "      <td>['Soul-Heart']</td>\n",
       "      <td>0.25</td>\n",
       "      <td>0.5</td>\n",
       "      <td>0.0</td>\n",
       "      <td>1.0</td>\n",
       "      <td>0.5</td>\n",
       "      <td>1.0</td>\n",
       "      <td>2.0</td>\n",
       "      <td>0.5</td>\n",
       "      <td>1.0</td>\n",
       "      <td>...</td>\n",
       "      <td>NaN</td>\n",
       "      <td>801</td>\n",
       "      <td>130</td>\n",
       "      <td>115</td>\n",
       "      <td>65</td>\n",
       "      <td>steel</td>\n",
       "      <td>fairy</td>\n",
       "      <td>80.5</td>\n",
       "      <td>7</td>\n",
       "      <td>1</td>\n",
       "    </tr>\n",
       "  </tbody>\n",
       "</table>\n",
       "<p>5 rows × 41 columns</p>\n",
       "</div>"
      ]
     },
     "execution_count": 6,
     "metadata": {},
     "output_type": "execute_result"
    }
   ],
   "execution_count": 6
  },
  {
   "metadata": {
    "ExecuteTime": {
     "end_time": "2024-11-21T19:23:17.712891Z",
     "start_time": "2024-11-21T19:23:17.705074Z"
    }
   },
   "cell_type": "code",
   "source": [
    "print(\"Shape: \", pokemon_db.shape)\n",
    "print(\"\\n Colunas: \", pokemon_db.columns)\n",
    "print(\"\\n Length: \", len(pokemon_db))"
   ],
   "id": "19ee547fd5af5349",
   "outputs": [
    {
     "name": "stdout",
     "output_type": "stream",
     "text": [
      "Shape:  (801, 41)\n",
      "\n",
      " Colunas:  Index(['abilities', 'against_bug', 'against_dark', 'against_dragon',\n",
      "       'against_electric', 'against_fairy', 'against_fight', 'against_fire',\n",
      "       'against_flying', 'against_ghost', 'against_grass', 'against_ground',\n",
      "       'against_ice', 'against_normal', 'against_poison', 'against_psychic',\n",
      "       'against_rock', 'against_steel', 'against_water', 'attack',\n",
      "       'base_egg_steps', 'base_happiness', 'base_total', 'capture_rate',\n",
      "       'classfication', 'defense', 'experience_growth', 'height_m', 'hp',\n",
      "       'japanese_name', 'name', 'percentage_male', 'pokedex_number',\n",
      "       'sp_attack', 'sp_defense', 'speed', 'type1', 'type2', 'weight_kg',\n",
      "       'generation', 'is_legendary'],\n",
      "      dtype='object')\n",
      "\n",
      " Length:  801\n"
     ]
    }
   ],
   "execution_count": 7
  },
  {
   "metadata": {
    "ExecuteTime": {
     "end_time": "2024-11-21T19:23:18.836499Z",
     "start_time": "2024-11-21T19:23:18.487664Z"
    }
   },
   "cell_type": "code",
   "source": "pokemon_db.hist('generation')",
   "id": "c9633cdd0aed8cf5",
   "outputs": [
    {
     "data": {
      "text/plain": [
       "array([[<Axes: title={'center': 'generation'}>]], dtype=object)"
      ]
     },
     "execution_count": 8,
     "metadata": {},
     "output_type": "execute_result"
    },
    {
     "data": {
      "text/plain": [
       "<Figure size 640x480 with 1 Axes>"
      ],
      "image/png": "[encoded data removed]"
     },
     "metadata": {},
     "output_type": "display_data"
    }
   ],
   "execution_count": 8
  },
  {
   "metadata": {
    "ExecuteTime": {
     "end_time": "2024-11-21T19:23:19.558471Z",
     "start_time": "2024-11-21T19:23:19.553458Z"
    }
   },
   "cell_type": "code",
   "source": [
    "tipos = list(set(pokemon_db.type1))\n",
    "print(tipos)"
   ],
   "id": "b03e6640e121a675",
   "outputs": [
    {
     "name": "stdout",
     "output_type": "stream",
     "text": [
      "['normal', 'ground', 'rock', 'fighting', 'fairy', 'flying', 'grass', 'fire', 'psychic', 'dark', 'ice', 'water', 'ghost', 'electric', 'dragon', 'steel', 'poison', 'bug']\n"
     ]
    }
   ],
   "execution_count": 9
  },
  {
   "metadata": {
    "ExecuteTime": {
     "end_time": "2024-11-21T19:23:19.971910Z",
     "start_time": "2024-11-21T19:23:19.964124Z"
    }
   },
   "cell_type": "code",
   "source": [
    "nomes = sorted(pokemon_db.name)\n",
    "print(nomes)"
   ],
   "id": "8925e679159b79b3",
   "outputs": [
    {
     "name": "stdout",
     "output_type": "stream",
     "text": [
      "['Abomasnow', 'Abra', 'Absol', 'Accelgor', 'Aegislash', 'Aerodactyl', 'Aggron', 'Aipom', 'Alakazam', 'Alomomola', 'Altaria', 'Amaura', 'Ambipom', 'Amoonguss', 'Ampharos', 'Anorith', 'Araquanid', 'Arbok', 'Arcanine', 'Arceus', 'Archen', 'Archeops', 'Ariados', 'Armaldo', 'Aromatisse', 'Aron', 'Articuno', 'Audino', 'Aurorus', 'Avalugg', 'Axew', 'Azelf', 'Azumarill', 'Azurill', 'Bagon', 'Baltoy', 'Banette', 'Barbaracle', 'Barboach', 'Basculin', 'Bastiodon', 'Bayleef', 'Beartic', 'Beautifly', 'Beedrill', 'Beheeyem', 'Beldum', 'Bellossom', 'Bellsprout', 'Bergmite', 'Bewear', 'Bibarel', 'Bidoof', 'Binacle', 'Bisharp', 'Blastoise', 'Blaziken', 'Blissey', 'Blitzle', 'Boldore', 'Bonsly', 'Bouffalant', 'Bounsweet', 'Braixen', 'Braviary', 'Breloom', 'Brionne', 'Bronzong', 'Bronzor', 'Bruxish', 'Budew', 'Buizel', 'Bulbasaur', 'Buneary', 'Bunnelby', 'Burmy', 'Butterfree', 'Buzzwole', 'Cacnea', 'Cacturne', 'Camerupt', 'Carbink', 'Carnivine', 'Carracosta', 'Carvanha', 'Cascoon', 'Castform', 'Caterpie', 'Celebi', 'Celesteela', 'Chandelure', 'Chansey', 'Charizard', 'Charjabug', 'Charmander', 'Charmeleon', 'Chatot', 'Cherrim', 'Cherubi', 'Chesnaught', 'Chespin', 'Chikorita', 'Chimchar', 'Chimecho', 'Chinchou', 'Chingling', 'Cinccino', 'Clamperl', 'Clauncher', 'Clawitzer', 'Claydol', 'Clefable', 'Clefairy', 'Cleffa', 'Cloyster', 'Cobalion', 'Cofagrigus', 'Combee', 'Combusken', 'Comfey', 'Conkeldurr', 'Corphish', 'Corsola', 'Cosmoem', 'Cosmog', 'Cottonee', 'Crabominable', 'Crabrawler', 'Cradily', 'Cranidos', 'Crawdaunt', 'Cresselia', 'Croagunk', 'Crobat', 'Croconaw', 'Crustle', 'Cryogonal', 'Cubchoo', 'Cubone', 'Cutiefly', 'Cyndaquil', 'Darkrai', 'Darmanitan', 'Dartrix', 'Darumaka', 'Decidueye', 'Dedenne', 'Deerling', 'Deino', 'Delcatty', 'Delibird', 'Delphox', 'Deoxys', 'Dewgong', 'Dewott', 'Dewpider', 'Dhelmise', 'Dialga', 'Diancie', 'Diggersby', 'Diglett', 'Ditto', 'Dodrio', 'Doduo', 'Donphan', 'Doublade', 'Dragalge', 'Dragonair', 'Dragonite', 'Drampa', 'Drapion', 'Dratini', 'Drifblim', 'Drifloon', 'Drilbur', 'Drowzee', 'Druddigon', 'Ducklett', 'Dugtrio', 'Dunsparce', 'Duosion', 'Durant', 'Dusclops', 'Dusknoir', 'Duskull', 'Dustox', 'Dwebble', 'Eelektrik', 'Eelektross', 'Eevee', 'Ekans', 'Electabuzz', 'Electivire', 'Electrike', 'Electrode', 'Elekid', 'Elgyem', 'Emboar', 'Emolga', 'Empoleon', 'Entei', 'Escavalier', 'Espeon', 'Espurr', 'Excadrill', 'Exeggcute', 'Exeggutor', 'Exploud', \"Farfetch'd\", 'Fearow', 'Feebas', 'Fennekin', 'Feraligatr', 'Ferroseed', 'Ferrothorn', 'Finneon', 'Flaaffy', 'Flabébé', 'Flareon', 'Fletchinder', 'Fletchling', 'Floatzel', 'Floette', 'Florges', 'Flygon', 'Fomantis', 'Foongus', 'Forretress', 'Fraxure', 'Frillish', 'Froakie', 'Frogadier', 'Froslass', 'Furfrou', 'Furret', 'Gabite', 'Gallade', 'Galvantula', 'Garbodor', 'Garchomp', 'Gardevoir', 'Gastly', 'Gastrodon', 'Genesect', 'Gengar', 'Geodude', 'Gible', 'Gigalith', 'Girafarig', 'Giratina', 'Glaceon', 'Glalie', 'Glameow', 'Gligar', 'Gliscor', 'Gloom', 'Gogoat', 'Golbat', 'Goldeen', 'Golduck', 'Golem', 'Golett', 'Golisopod', 'Golurk', 'Goodra', 'Goomy', 'Gorebyss', 'Gothita', 'Gothitelle', 'Gothorita', 'Gourgeist', 'Granbull', 'Graveler', 'Greninja', 'Grimer', 'Grotle', 'Groudon', 'Grovyle', 'Growlithe', 'Grubbin', 'Grumpig', 'Gulpin', 'Gumshoos', 'Gurdurr', 'Guzzlord', 'Gyarados', 'Hakamo-o', 'Happiny', 'Hariyama', 'Haunter', 'Hawlucha', 'Haxorus', 'Heatmor', 'Heatran', 'Heliolisk', 'Helioptile', 'Heracross', 'Herdier', 'Hippopotas', 'Hippowdon', 'Hitmonchan', 'Hitmonlee', 'Hitmontop', 'Ho-Oh', 'Honchkrow', 'Honedge', 'Hoopa', 'Hoothoot', 'Hoppip', 'Horsea', 'Houndoom', 'Houndour', 'Huntail', 'Hydreigon', 'Hypno', 'Igglybuff', 'Illumise', 'Incineroar', 'Infernape', 'Inkay', 'Ivysaur', 'Jangmo-o', 'Jellicent', 'Jigglypuff', 'Jirachi', 'Jolteon', 'Joltik', 'Jumpluff', 'Jynx', 'Kabuto', 'Kabutops', 'Kadabra', 'Kakuna', 'Kangaskhan', 'Karrablast', 'Kartana', 'Kecleon', 'Keldeo', 'Kingdra', 'Kingler', 'Kirlia', 'Klang', 'Klefki', 'Klink', 'Klinklang', 'Koffing', 'Komala', 'Kommo-o', 'Krabby', 'Kricketot', 'Kricketune', 'Krokorok', 'Krookodile', 'Kyogre', 'Kyurem', 'Lairon', 'Lampent', 'Landorus', 'Lanturn', 'Lapras', 'Larvesta', 'Larvitar', 'Latias', 'Latios', 'Leafeon', 'Leavanny', 'Ledian', 'Ledyba', 'Lickilicky', 'Lickitung', 'Liepard', 'Lileep', 'Lilligant', 'Lillipup', 'Linoone', 'Litleo', 'Litten', 'Litwick', 'Lombre', 'Lopunny', 'Lotad', 'Loudred', 'Lucario', 'Ludicolo', 'Lugia', 'Lumineon', 'Lunala', 'Lunatone', 'Lurantis', 'Luvdisc', 'Luxio', 'Luxray', 'Lycanroc', 'Machamp', 'Machoke', 'Machop', 'Magby', 'Magcargo', 'Magearna', 'Magikarp', 'Magmar', 'Magmortar', 'Magnemite', 'Magneton', 'Magnezone', 'Makuhita', 'Malamar', 'Mamoswine', 'Manaphy', 'Mandibuzz', 'Manectric', 'Mankey', 'Mantine', 'Mantyke', 'Maractus', 'Mareanie', 'Mareep', 'Marill', 'Marowak', 'Marshtomp', 'Masquerain', 'Mawile', 'Medicham', 'Meditite', 'Meganium', 'Meloetta', 'Meowstic', 'Meowth', 'Mesprit', 'Metagross', 'Metang', 'Metapod', 'Mew', 'Mewtwo', 'Mienfoo', 'Mienshao', 'Mightyena', 'Milotic', 'Miltank', 'Mime Jr.', 'Mimikyu', 'Minccino', 'Minior', 'Minun', 'Misdreavus', 'Mismagius', 'Moltres', 'Monferno', 'Morelull', 'Mothim', 'Mr. Mime', 'Mudbray', 'Mudkip', 'Mudsdale', 'Muk', 'Munchlax', 'Munna', 'Murkrow', 'Musharna', 'Natu', 'Necrozma', 'Nidoking', 'Nidoqueen', 'Nidoran♀', 'Nidoran♂', 'Nidorina', 'Nidorino', 'Nihilego', 'Nincada', 'Ninetales', 'Ninjask', 'Noctowl', 'Noibat', 'Noivern', 'Nosepass', 'Numel', 'Nuzleaf', 'Octillery', 'Oddish', 'Omanyte', 'Omastar', 'Onix', 'Oranguru', 'Oricorio', 'Oshawott', 'Pachirisu', 'Palkia', 'Palossand', 'Palpitoad', 'Pancham', 'Pangoro', 'Panpour', 'Pansage', 'Pansear', 'Paras', 'Parasect', 'Passimian', 'Patrat', 'Pawniard', 'Pelipper', 'Persian', 'Petilil', 'Phanpy', 'Phantump', 'Pheromosa', 'Phione', 'Pichu', 'Pidgeot', 'Pidgeotto', 'Pidgey', 'Pidove', 'Pignite', 'Pikachu', 'Pikipek', 'Piloswine', 'Pineco', 'Pinsir', 'Piplup', 'Plusle', 'Politoed', 'Poliwag', 'Poliwhirl', 'Poliwrath', 'Ponyta', 'Poochyena', 'Popplio', 'Porygon', 'Porygon-Z', 'Porygon2', 'Primarina', 'Primeape', 'Prinplup', 'Probopass', 'Psyduck', 'Pumpkaboo', 'Pupitar', 'Purrloin', 'Purugly', 'Pyroar', 'Pyukumuku', 'Quagsire', 'Quilava', 'Quilladin', 'Qwilfish', 'Raichu', 'Raikou', 'Ralts', 'Rampardos', 'Rapidash', 'Raticate', 'Rattata', 'Rayquaza', 'Regice', 'Regigigas', 'Regirock', 'Registeel', 'Relicanth', 'Remoraid', 'Reshiram', 'Reuniclus', 'Rhydon', 'Rhyhorn', 'Rhyperior', 'Ribombee', 'Riolu', 'Rockruff', 'Roggenrola', 'Roselia', 'Roserade', 'Rotom', 'Rowlet', 'Rufflet', 'Sableye', 'Salamence', 'Salandit', 'Salazzle', 'Samurott', 'Sandile', 'Sandshrew', 'Sandslash', 'Sandygast', 'Sawk', 'Sawsbuck', 'Scatterbug', 'Sceptile', 'Scizor', 'Scolipede', 'Scrafty', 'Scraggy', 'Scyther', 'Seadra', 'Seaking', 'Sealeo', 'Seedot', 'Seel', 'Seismitoad', 'Sentret', 'Serperior', 'Servine', 'Seviper', 'Sewaddle', 'Sharpedo', 'Shaymin', 'Shedinja', 'Shelgon', 'Shellder', 'Shellos', 'Shelmet', 'Shieldon', 'Shiftry', 'Shiinotic', 'Shinx', 'Shroomish', 'Shuckle', 'Shuppet', 'Sigilyph', 'Silcoon', 'Silvally', 'Simipour', 'Simisage', 'Simisear', 'Skarmory', 'Skiddo', 'Skiploom', 'Skitty', 'Skorupi', 'Skrelp', 'Skuntank', 'Slaking', 'Slakoth', 'Sliggoo', 'Slowbro', 'Slowking', 'Slowpoke', 'Slugma', 'Slurpuff', 'Smeargle', 'Smoochum', 'Sneasel', 'Snivy', 'Snorlax', 'Snorunt', 'Snover', 'Snubbull', 'Solgaleo', 'Solosis', 'Solrock', 'Spearow', 'Spewpa', 'Spheal', 'Spinarak', 'Spinda', 'Spiritomb', 'Spoink', 'Spritzee', 'Squirtle', 'Stantler', 'Staraptor', 'Staravia', 'Starly', 'Starmie', 'Staryu', 'Steelix', 'Steenee', 'Stoutland', 'Stufful', 'Stunfisk', 'Stunky', 'Sudowoodo', 'Suicune', 'Sunflora', 'Sunkern', 'Surskit', 'Swablu', 'Swadloon', 'Swalot', 'Swampert', 'Swanna', 'Swellow', 'Swinub', 'Swirlix', 'Swoobat', 'Sylveon', 'Taillow', 'Talonflame', 'Tangela', 'Tangrowth', 'Tapu Bulu', 'Tapu Fini', 'Tapu Koko', 'Tapu Lele', 'Tauros', 'Teddiursa', 'Tentacool', 'Tentacruel', 'Tepig', 'Terrakion', 'Throh', 'Thundurus', 'Timburr', 'Tirtouga', 'Togedemaru', 'Togekiss', 'Togepi', 'Togetic', 'Torchic', 'Torkoal', 'Tornadus', 'Torracat', 'Torterra', 'Totodile', 'Toucannon', 'Toxapex', 'Toxicroak', 'Tranquill', 'Trapinch', 'Treecko', 'Trevenant', 'Tropius', 'Trubbish', 'Trumbeak', 'Tsareena', 'Turtonator', 'Turtwig', 'Tympole', 'Tynamo', 'Type: Null', 'Typhlosion', 'Tyranitar', 'Tyrantrum', 'Tyrogue', 'Tyrunt', 'Umbreon', 'Unfezant', 'Unown', 'Ursaring', 'Uxie', 'Vanillish', 'Vanillite', 'Vanilluxe', 'Vaporeon', 'Venipede', 'Venomoth', 'Venonat', 'Venusaur', 'Vespiquen', 'Vibrava', 'Victini', 'Victreebel', 'Vigoroth', 'Vikavolt', 'Vileplume', 'Virizion', 'Vivillon', 'Volbeat', 'Volcanion', 'Volcarona', 'Voltorb', 'Vullaby', 'Vulpix', 'Wailmer', 'Wailord', 'Walrein', 'Wartortle', 'Watchog', 'Weavile', 'Weedle', 'Weepinbell', 'Weezing', 'Whimsicott', 'Whirlipede', 'Whiscash', 'Whismur', 'Wigglytuff', 'Wimpod', 'Wingull', 'Wishiwashi', 'Wobbuffet', 'Woobat', 'Wooper', 'Wormadam', 'Wurmple', 'Wynaut', 'Xatu', 'Xerneas', 'Xurkitree', 'Yamask', 'Yanma', 'Yanmega', 'Yungoos', 'Yveltal', 'Zangoose', 'Zapdos', 'Zebstrika', 'Zekrom', 'Zigzagoon', 'Zoroark', 'Zorua', 'Zubat', 'Zweilous', 'Zygarde']\n"
     ]
    }
   ],
   "execution_count": 10
  },
  {
   "metadata": {
    "ExecuteTime": {
     "end_time": "2024-11-21T19:23:20.756635Z",
     "start_time": "2024-11-21T19:23:20.634359Z"
    }
   },
   "cell_type": "code",
   "source": [
    "felicidade_media = {}\n",
    "pokemon_por_tipo = {}\n",
    "tipos_brutos = pokemon_db.type1\n",
    "\n",
    "for tipo in tipos:\n",
    "    lista_tipo_atual = []\n",
    "    for nome in nomes:\n",
    "        if tipos_brutos[nomes.index(nome)] == tipo:\n",
    "            lista_tipo_atual.append(nome)\n",
    "            \n",
    "    pokemon_por_tipo[tipo] = lista_tipo_atual"
   ],
   "id": "15b32ef0de054efc",
   "outputs": [],
   "execution_count": 11
  },
  {
   "metadata": {
    "ExecuteTime": {
     "end_time": "2024-11-21T19:23:20.950643Z",
     "start_time": "2024-11-21T19:23:20.928097Z"
    }
   },
   "cell_type": "code",
   "source": [
    "for tipo, pokemon in pokemon_por_tipo.items():\n",
    "    soma_felicidade_tipo = []\n",
    "    print(tipo)\n",
    "    for poke in pokemon:\n",
    "        soma_felicidade_tipo.append(pokemon_db['base_happiness'][nomes.index(poke)])\n",
    "    \n",
    "    felicidade_media[tipo] = statistics.mean(soma_felicidade_tipo)\n",
    "    print(felicidade_media)"
   ],
   "id": "57bd02d31566816b",
   "outputs": [
    {
     "name": "stdout",
     "output_type": "stream",
     "text": [
      "normal\n",
      "{'normal': 69}\n",
      "ground\n",
      "{'normal': 69, 'ground': 68}\n",
      "rock\n",
      "{'normal': 69, 'ground': 68, 'rock': 64}\n",
      "fighting\n",
      "{'normal': 69, 'ground': 68, 'rock': 64, 'fighting': 70}\n",
      "fairy\n",
      "{'normal': 69, 'ground': 68, 'rock': 64, 'fighting': 70, 'fairy': 77}\n",
      "flying\n",
      "{'normal': 69, 'ground': 68, 'rock': 64, 'fighting': 70, 'fairy': 77, 'flying': 76}\n",
      "grass\n",
      "{'normal': 69, 'ground': 68, 'rock': 64, 'fighting': 70, 'fairy': 77, 'flying': 76, 'grass': 67}\n",
      "fire\n",
      "{'normal': 69, 'ground': 68, 'rock': 64, 'fighting': 70, 'fairy': 77, 'flying': 76, 'grass': 67, 'fire': 68}\n",
      "psychic\n",
      "{'normal': 69, 'ground': 68, 'rock': 64, 'fighting': 70, 'fairy': 77, 'flying': 76, 'grass': 67, 'fire': 68, 'psychic': 63}\n",
      "dark\n",
      "{'normal': 69, 'ground': 68, 'rock': 64, 'fighting': 70, 'fairy': 77, 'flying': 76, 'grass': 67, 'fire': 68, 'psychic': 63, 'dark': 42}\n",
      "ice\n",
      "{'normal': 69, 'ground': 68, 'rock': 64, 'fighting': 70, 'fairy': 77, 'flying': 76, 'grass': 67, 'fire': 68, 'psychic': 63, 'dark': 42, 'ice': 65}\n",
      "water\n",
      "{'normal': 69, 'ground': 68, 'rock': 64, 'fighting': 70, 'fairy': 77, 'flying': 76, 'grass': 67, 'fire': 68, 'psychic': 63, 'dark': 42, 'ice': 65, 'water': 67}\n",
      "ghost\n",
      "{'normal': 69, 'ground': 68, 'rock': 64, 'fighting': 70, 'fairy': 77, 'flying': 76, 'grass': 67, 'fire': 68, 'psychic': 63, 'dark': 42, 'ice': 65, 'water': 67, 'ghost': 58}\n",
      "electric\n",
      "{'normal': 69, 'ground': 68, 'rock': 64, 'fighting': 70, 'fairy': 77, 'flying': 76, 'grass': 67, 'fire': 68, 'psychic': 63, 'dark': 42, 'ice': 65, 'water': 67, 'ghost': 58, 'electric': 68}\n",
      "dragon\n",
      "{'normal': 69, 'ground': 68, 'rock': 64, 'fighting': 70, 'fairy': 77, 'flying': 76, 'grass': 67, 'fire': 68, 'psychic': 63, 'dark': 42, 'ice': 65, 'water': 67, 'ghost': 58, 'electric': 68, 'dragon': 42}\n",
      "steel\n",
      "{'normal': 69, 'ground': 68, 'rock': 64, 'fighting': 70, 'fairy': 77, 'flying': 76, 'grass': 67, 'fire': 68, 'psychic': 63, 'dark': 42, 'ice': 65, 'water': 67, 'ghost': 58, 'electric': 68, 'dragon': 42, 'steel': 50}\n",
      "poison\n",
      "{'normal': 69, 'ground': 68, 'rock': 64, 'fighting': 70, 'fairy': 77, 'flying': 76, 'grass': 67, 'fire': 68, 'psychic': 63, 'dark': 42, 'ice': 65, 'water': 67, 'ghost': 58, 'electric': 68, 'dragon': 42, 'steel': 50, 'poison': 70}\n",
      "bug\n",
      "{'normal': 69, 'ground': 68, 'rock': 64, 'fighting': 70, 'fairy': 77, 'flying': 76, 'grass': 67, 'fire': 68, 'psychic': 63, 'dark': 42, 'ice': 65, 'water': 67, 'ghost': 58, 'electric': 68, 'dragon': 42, 'steel': 50, 'poison': 70, 'bug': 67}\n"
     ]
    }
   ],
   "execution_count": 12
  },
  {
   "metadata": {
    "ExecuteTime": {
     "end_time": "2024-11-21T20:14:55.033958Z",
     "start_time": "2024-11-21T20:14:54.771232Z"
    }
   },
   "cell_type": "code",
   "source": [
    "felicidades = list(felicidade_media.values())\n",
    "cores = ['#A8A77A', '#F95587', '#C22E28', '#705746', '#F7D02C', '#E2BF65', '#B6A136', '#A6B91A', '#A33EA1', '#96D9D6', '#7AC74C', '#D685AD', '#A98FF3', '#735797', '#6F35FC', '#6390F0', '#EE8130', '#B7B7CE']\n",
    "\n",
    "fig = plt.figure(figsize = (15, 8))\n",
    "plt.bar(tipos, felicidades, width = 0.5, color=cores)\n",
    "plt.xlabel('Tipos')\n",
    "plt.title('Relação entre tipos pokémon e sua felicidade base')\n",
    "plt.show()"
   ],
   "id": "a9646225bec62f0d",
   "outputs": [
    {
     "data": {
      "text/plain": [
       "<Figure size 1500x800 with 1 Axes>"
      ],
      "image/png": "[encoded data removed]"
     },
     "metadata": {},
     "output_type": "display_data"
    }
   ],
   "execution_count": 55
  },
  {
   "metadata": {
    "ExecuteTime": {
     "end_time": "2024-11-21T19:23:21.630365Z",
     "start_time": "2024-11-21T19:23:21.592004Z"
    }
   },
   "cell_type": "code",
   "source": [
    "atk_medio = {}\n",
    "def_media = {}\n",
    "speed_media = {}\n",
    "\n",
    "for tipo, pokemon in pokemon_por_tipo.items():\n",
    "    soma_atk_tipo = []\n",
    "    soma_def_tipo = []\n",
    "    soma_speed_tipo = []\n",
    "    \n",
    "    print(tipo)\n",
    "    for poke in pokemon:\n",
    "        soma_atk_tipo.append(pokemon_db['sp_attack'][nomes.index(poke)])\n",
    "        soma_def_tipo.append(pokemon_db['sp_defense'][nomes.index(poke)])\n",
    "        soma_speed_tipo.append(pokemon_db['speed'][nomes.index(poke)])\n",
    "\n",
    "    atk_medio[tipo] = statistics.mean(soma_atk_tipo)\n",
    "    def_media[tipo] = statistics.mean(soma_def_tipo)\n",
    "    speed_media[tipo] = statistics.mean(soma_speed_tipo)\n",
    "    \n",
    "    print(atk_medio)"
   ],
   "id": "9d0a0e77665fc0aa",
   "outputs": [
    {
     "name": "stdout",
     "output_type": "stream",
     "text": [
      "normal\n",
      "{'normal': 56}\n",
      "ground\n",
      "{'normal': 56, 'ground': 51}\n",
      "rock\n",
      "{'normal': 56, 'ground': 51, 'rock': 63}\n",
      "fighting\n",
      "{'normal': 56, 'ground': 51, 'rock': 63, 'fighting': 50}\n",
      "fairy\n",
      "{'normal': 56, 'ground': 51, 'rock': 63, 'fighting': 50, 'fairy': 81}\n",
      "flying\n",
      "{'normal': 56, 'ground': 51, 'rock': 63, 'fighting': 50, 'fairy': 81, 'flying': 84}\n",
      "grass\n",
      "{'normal': 56, 'ground': 51, 'rock': 63, 'fighting': 50, 'fairy': 81, 'flying': 84, 'grass': 74}\n",
      "fire\n",
      "{'normal': 56, 'ground': 51, 'rock': 63, 'fighting': 50, 'fairy': 81, 'flying': 84, 'grass': 74, 'fire': 87}\n",
      "psychic\n",
      "{'normal': 56, 'ground': 51, 'rock': 63, 'fighting': 50, 'fairy': 81, 'flying': 84, 'grass': 74, 'fire': 87, 'psychic': 92}\n",
      "dark\n",
      "{'normal': 56, 'ground': 51, 'rock': 63, 'fighting': 50, 'fairy': 81, 'flying': 84, 'grass': 74, 'fire': 87, 'psychic': 92, 'dark': 74}\n",
      "ice\n",
      "{'normal': 56, 'ground': 51, 'rock': 63, 'fighting': 50, 'fairy': 81, 'flying': 84, 'grass': 74, 'fire': 87, 'psychic': 92, 'dark': 74, 'ice': 77}\n",
      "water\n",
      "{'normal': 56, 'ground': 51, 'rock': 63, 'fighting': 50, 'fairy': 81, 'flying': 84, 'grass': 74, 'fire': 87, 'psychic': 92, 'dark': 74, 'ice': 77, 'water': 74}\n",
      "ghost\n",
      "{'normal': 56, 'ground': 51, 'rock': 63, 'fighting': 50, 'fairy': 81, 'flying': 84, 'grass': 74, 'fire': 87, 'psychic': 92, 'dark': 74, 'ice': 77, 'water': 74, 'ghost': 82}\n",
      "electric\n",
      "{'normal': 56, 'ground': 51, 'rock': 63, 'fighting': 50, 'fairy': 81, 'flying': 84, 'grass': 74, 'fire': 87, 'psychic': 92, 'dark': 74, 'ice': 77, 'water': 74, 'ghost': 82, 'electric': 87}\n",
      "dragon\n",
      "{'normal': 56, 'ground': 51, 'rock': 63, 'fighting': 50, 'fairy': 81, 'flying': 84, 'grass': 74, 'fire': 87, 'psychic': 92, 'dark': 74, 'ice': 77, 'water': 74, 'ghost': 82, 'electric': 87, 'dragon': 89}\n",
      "steel\n",
      "{'normal': 56, 'ground': 51, 'rock': 63, 'fighting': 50, 'fairy': 81, 'flying': 84, 'grass': 74, 'fire': 87, 'psychic': 92, 'dark': 74, 'ice': 77, 'water': 74, 'ghost': 82, 'electric': 87, 'dragon': 89, 'steel': 72}\n",
      "poison\n",
      "{'normal': 56, 'ground': 51, 'rock': 63, 'fighting': 50, 'fairy': 81, 'flying': 84, 'grass': 74, 'fire': 87, 'psychic': 92, 'dark': 74, 'ice': 77, 'water': 74, 'ghost': 82, 'electric': 87, 'dragon': 89, 'steel': 72, 'poison': 61}\n",
      "bug\n",
      "{'normal': 56, 'ground': 51, 'rock': 63, 'fighting': 50, 'fairy': 81, 'flying': 84, 'grass': 74, 'fire': 87, 'psychic': 92, 'dark': 74, 'ice': 77, 'water': 74, 'ghost': 82, 'electric': 87, 'dragon': 89, 'steel': 72, 'poison': 61, 'bug': 56}\n"
     ]
    }
   ],
   "execution_count": 14
  },
  {
   "metadata": {
    "ExecuteTime": {
     "end_time": "2024-11-21T20:18:52.498009Z",
     "start_time": "2024-11-21T20:18:52.126011Z"
    }
   },
   "cell_type": "code",
   "source": [
    "atks = list(atk_medio.values())\n",
    "defs = list(def_media.values())\n",
    "speeds = list(speed_media.values())\n",
    "colunas = tipos\n",
    "linhas = np.array([felicidades, atks, defs, speeds])\n",
    "\n",
    "x = np.arange(linhas.shape[1])\n",
    "cores = ['#ff6b99', '#de0a26', '#0e4c92', '#ffee8c']\n",
    "compr = 0.8/(linhas.shape[0])\n",
    "fig = plt.figure(figsize = (15, 8))\n",
    "for i in range(0, linhas.shape[0]):\n",
    "    plt.xticks(x + compr*i - 0.3, colunas)\n",
    "    plt.bar(x + compr*i, linhas[i], color=cores[i], width=compr)\n",
    "\n",
    "#plt.bar(tipos, felicidades, width = 0.2, color = '#ff6b99')\n",
    "#plt.bar(tipos, atks, width = 0.2, color = '#de0a26')\n",
    "#plt.bar(tipos, defs, width = 0.2, color = '#0e4c92')\n",
    "#plt.bar(tipos, speeds, width = 0.2, color = '#ffee8c')\n",
    "plt.legend(['Felicidade', 'Ataque', 'Defesa', 'Velocidade'])\n",
    "plt.xlabel('Tipos Pokémon')\n",
    "plt.title('Os tipos Pokémon e seus respectivos stats-base')\n",
    "plt.show()"
   ],
   "id": "7e024b5a4cf4b6de",
   "outputs": [
    {
     "data": {
      "text/plain": [
       "<Figure size 1500x800 with 1 Axes>"
      ],
      "image/png": "[encoded data removed]"
     },
     "metadata": {},
     "output_type": "display_data"
    }
   ],
   "execution_count": 57
  },
  {
   "metadata": {},
   "cell_type": "code",
   "outputs": [],
   "execution_count": null,
   "source": "",
   "id": "eabf70c15f15ae74"
  }
 ],
 "metadata": {
  "kernelspec": {
   "display_name": "Python 3",
   "language": "python",
   "name": "python3"
  },
  "language_info": {
   "codemirror_mode": {
    "name": "ipython",
    "version": 2
   },
   "file_extension": ".py",
   "mimetype": "text/x-python",
   "name": "python",
   "nbconvert_exporter": "python",
   "pygments_lexer": "ipython2",
   "version": "2.7.6"
  }
 },
 "nbformat": 4,
 "nbformat_minor": 5
}
